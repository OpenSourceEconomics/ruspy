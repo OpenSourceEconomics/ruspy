{
 "cells": [
  {
   "cell_type": "code",
   "execution_count": 1,
   "metadata": {},
   "outputs": [],
   "source": [
    "%load_ext autoreload\n",
    "\n",
    "%autoreload 2\n",
    "    \n",
    "import matplotlib.pyplot as plt\n",
    "import numpy as np\n",
    "import pandas as pd\n",
    "\n",
    "from ruspy.estimation.criterion_function import get_criterion_function\n",
    "from ruspy.model_code.demand_function import get_demand\n",
    "from estimagic import minimize"
   ]
  },
  {
   "cell_type": "markdown",
   "metadata": {},
   "source": [
    "## Short Tutorial on the Use of ruspy"
   ]
  },
  {
   "cell_type": "markdown",
   "metadata": {},
   "source": [
    "As opposed to the other replication notebook, here we do not actually replicate a whole paper but just an aspect of Rust (1987) in order to show how the key objects and functions for the estimation and the demand function derivation are used in the ruspy package."
   ]
  },
  {
   "cell_type": "markdown",
   "metadata": {},
   "source": [
    "### Estimation with the Nested Fixed Point Algorithm\n",
    "\n",
    "Here, we replicate the results in Table IX of Rust (1987) for the buses of group 4. For different data sets, you can either prepare them from raw data yourself (the raw data can be found [here](https://editorialexpress.com/jrust/research.html)) or visit the [data repository of OpenSourceEconomics](https://github.com/OpenSourceEconomics/zurcher-data) for Rust's (1987) data which allows to prepare the original data the way it is needed for the ruspy package. In order to estimate the parameters of the model we first load the data below."
   ]
  },
  {
   "cell_type": "code",
   "execution_count": 2,
   "metadata": {
    "scrolled": true
   },
   "outputs": [
    {
     "data": {
      "text/html": [
       "<div>\n",
       "<style scoped>\n",
       "    .dataframe tbody tr th:only-of-type {\n",
       "        vertical-align: middle;\n",
       "    }\n",
       "\n",
       "    .dataframe tbody tr th {\n",
       "        vertical-align: top;\n",
       "    }\n",
       "\n",
       "    .dataframe thead th {\n",
       "        text-align: right;\n",
       "    }\n",
       "</style>\n",
       "<table border=\"1\" class=\"dataframe\">\n",
       "  <thead>\n",
       "    <tr style=\"text-align: right;\">\n",
       "      <th></th>\n",
       "      <th></th>\n",
       "      <th>state</th>\n",
       "      <th>mileage</th>\n",
       "      <th>usage</th>\n",
       "      <th>decision</th>\n",
       "    </tr>\n",
       "    <tr>\n",
       "      <th>Bus_ID</th>\n",
       "      <th>period</th>\n",
       "      <th></th>\n",
       "      <th></th>\n",
       "      <th></th>\n",
       "      <th></th>\n",
       "    </tr>\n",
       "  </thead>\n",
       "  <tbody>\n",
       "    <tr>\n",
       "      <th rowspan=\"5\" valign=\"top\">5297</th>\n",
       "      <th>0</th>\n",
       "      <td>0</td>\n",
       "      <td>2353.0</td>\n",
       "      <td>NaN</td>\n",
       "      <td>0</td>\n",
       "    </tr>\n",
       "    <tr>\n",
       "      <th>1</th>\n",
       "      <td>1</td>\n",
       "      <td>6299.0</td>\n",
       "      <td>1.0</td>\n",
       "      <td>0</td>\n",
       "    </tr>\n",
       "    <tr>\n",
       "      <th>2</th>\n",
       "      <td>2</td>\n",
       "      <td>10479.0</td>\n",
       "      <td>1.0</td>\n",
       "      <td>0</td>\n",
       "    </tr>\n",
       "    <tr>\n",
       "      <th>3</th>\n",
       "      <td>3</td>\n",
       "      <td>15201.0</td>\n",
       "      <td>1.0</td>\n",
       "      <td>0</td>\n",
       "    </tr>\n",
       "    <tr>\n",
       "      <th>4</th>\n",
       "      <td>4</td>\n",
       "      <td>20326.0</td>\n",
       "      <td>1.0</td>\n",
       "      <td>0</td>\n",
       "    </tr>\n",
       "    <tr>\n",
       "      <th>...</th>\n",
       "      <th>...</th>\n",
       "      <td>...</td>\n",
       "      <td>...</td>\n",
       "      <td>...</td>\n",
       "      <td>...</td>\n",
       "    </tr>\n",
       "    <tr>\n",
       "      <th rowspan=\"5\" valign=\"top\">5333</th>\n",
       "      <th>112</th>\n",
       "      <td>68</td>\n",
       "      <td>342004.0</td>\n",
       "      <td>0.0</td>\n",
       "      <td>0</td>\n",
       "    </tr>\n",
       "    <tr>\n",
       "      <th>113</th>\n",
       "      <td>68</td>\n",
       "      <td>343654.0</td>\n",
       "      <td>0.0</td>\n",
       "      <td>0</td>\n",
       "    </tr>\n",
       "    <tr>\n",
       "      <th>114</th>\n",
       "      <td>69</td>\n",
       "      <td>345631.0</td>\n",
       "      <td>1.0</td>\n",
       "      <td>0</td>\n",
       "    </tr>\n",
       "    <tr>\n",
       "      <th>115</th>\n",
       "      <td>69</td>\n",
       "      <td>347549.0</td>\n",
       "      <td>0.0</td>\n",
       "      <td>0</td>\n",
       "    </tr>\n",
       "    <tr>\n",
       "      <th>116</th>\n",
       "      <td>69</td>\n",
       "      <td>347549.0</td>\n",
       "      <td>0.0</td>\n",
       "      <td>0</td>\n",
       "    </tr>\n",
       "  </tbody>\n",
       "</table>\n",
       "<p>4329 rows × 4 columns</p>\n",
       "</div>"
      ],
      "text/plain": [
       "              state   mileage usage  decision\n",
       "Bus_ID period                                \n",
       "5297   0          0    2353.0   NaN         0\n",
       "       1          1    6299.0   1.0         0\n",
       "       2          2   10479.0   1.0         0\n",
       "       3          3   15201.0   1.0         0\n",
       "       4          4   20326.0   1.0         0\n",
       "...             ...       ...   ...       ...\n",
       "5333   112       68  342004.0   0.0         0\n",
       "       113       68  343654.0   0.0         0\n",
       "       114       69  345631.0   1.0         0\n",
       "       115       69  347549.0   0.0         0\n",
       "       116       69  347549.0   0.0         0\n",
       "\n",
       "[4329 rows x 4 columns]"
      ]
     },
     "execution_count": 2,
     "metadata": {},
     "output_type": "execute_result"
    }
   ],
   "source": [
    "data = pd.read_pickle(\"group_4.pkl\")\n",
    "data"
   ]
  },
  {
   "cell_type": "markdown",
   "metadata": {},
   "source": [
    "The data is the first ingredient for the function ``get_criterion_function`` of ruspy and the second one is the initialization dictionairy (have a look at the documentation for the all possible keys). The estimation procedure, here, assumes the model to have the specifications as determined in the key \"model_specifications\". In order to use the Nested Fixed Point Algorithm, we specify it as \"method\" key of the initialization dictionairy. We can further assign specific algorithmic details in the subdictionary \"alg_details\". More information on the algorithmic details as well as default values can also be found in the documentation."
   ]
  },
  {
   "cell_type": "code",
   "execution_count": 3,
   "metadata": {},
   "outputs": [],
   "source": [
    "init_dict_nfxp = {\n",
    "    \"model_specifications\": {\n",
    "        \"discount_factor\": 0.9999,\n",
    "        \"num_states\": 90,\n",
    "        \"maint_cost_func\": \"linear\",\n",
    "        \"cost_scale\": 1e-3,\n",
    "    },\n",
    "    \"method\": \"NFXP\"\n",
    "}"
   ]
  },
  {
   "cell_type": "markdown",
   "metadata": {},
   "source": [
    "The above two elements are now given to the ``get_criterion_function`` function. The function specifies the criterion function (negative log-likelihood function) and its derivative needed for the cost parameter estimation. Additionally, it returns a dictionairy containing the results of the estimation of the transition probabilities."
   ]
  },
  {
   "cell_type": "code",
   "execution_count": 4,
   "metadata": {
    "scrolled": true
   },
   "outputs": [],
   "source": [
    "criterion_func, criterion_dev, result_transitions_nfxp = get_criterion_function(init_dict_nfxp, data)"
   ]
  },
  {
   "cell_type": "code",
   "execution_count": 5,
   "metadata": {},
   "outputs": [
    {
     "data": {
      "text/plain": [
       "{'trans_count': array([1682, 2555,   55]),\n",
       " 'x': array([0.39189189, 0.59529357, 0.01281454]),\n",
       " 'fun': 3140.570557093825}"
      ]
     },
     "execution_count": 5,
     "metadata": {},
     "output_type": "execute_result"
    }
   ],
   "source": [
    "result_transitions_nfxp"
   ]
  },
  {
   "cell_type": "markdown",
   "metadata": {},
   "source": [
    "In order to estimate the cost parameters, the criterion function and its derivative need to be minimized. \n",
    "Here we use the``minimize`` function of estimagic together with the BFGS algorithm of scipy."
   ]
  },
  {
   "cell_type": "code",
   "execution_count": 6,
   "metadata": {},
   "outputs": [
    {
     "data": {
      "text/plain": [
       "Minimize with 2 free parameters terminated successfully after 27 criterion evaluations, 27 derivative evaluations and 24 iterations.\n",
       "\n",
       "The value of criterion improved from 1567.6162300270314 to 163.58428365680274.\n",
       "\n",
       "The scipy_bfgs algorithm reported: Optimization terminated successfully.\n",
       "\n",
       "Independent of the convergence criteria used by scipy_bfgs, the strength of convergence can be assessed by the following criteria:\n",
       "\n",
       "                             one_step     five_steps \n",
       "relative_criterion_change   1.03e-13***  0.0003636   \n",
       "relative_params_change     4.682e-07*      0.04934   \n",
       "absolute_criterion_change  1.685e-11***    0.05948   \n",
       "absolute_params_change     4.172e-06*        0.361   \n",
       "\n",
       "(***: change <= 1e-10, **: change <= 1e-8, *: change <= 1e-5. Change refers to a change between accepted steps. The first column only considers the last step. The second column considers the last five steps.)"
      ]
     },
     "execution_count": 6,
     "metadata": {},
     "output_type": "execute_result"
    }
   ],
   "source": [
    "result_nfxp = minimize(\n",
    "    criterion=criterion_func,\n",
    "    params=np.array([2,10]),\n",
    "    algorithm=\"scipy_bfgs\",\n",
    "    derivative=criterion_dev,\n",
    ")\n",
    "result_nfxp"
   ]
  },
  {
   "cell_type": "markdown",
   "metadata": {},
   "source": [
    "The optimization algorithm successfully terminated."
   ]
  },
  {
   "cell_type": "code",
   "execution_count": 7,
   "metadata": {},
   "outputs": [
    {
     "data": {
      "text/plain": [
       "True"
      ]
     },
     "execution_count": 7,
     "metadata": {},
     "output_type": "execute_result"
    }
   ],
   "source": [
    "result_nfxp.success"
   ]
  },
  {
   "cell_type": "markdown",
   "metadata": {},
   "source": [
    "As expected, the results below reveal that we find the same parameter estimates as Rust (1987) in Table IX."
   ]
  },
  {
   "cell_type": "code",
   "execution_count": 8,
   "metadata": {},
   "outputs": [
    {
     "data": {
      "text/plain": [
       "array([10.0749422 ,  2.29309298])"
      ]
     },
     "execution_count": 8,
     "metadata": {},
     "output_type": "execute_result"
    }
   ],
   "source": [
    "result_nfxp.params"
   ]
  },
  {
   "cell_type": "markdown",
   "metadata": {},
   "source": [
    "### Estimation with Mathematical Programming with Equilibrium Constraints\n",
    "\n",
    "We now estimate the model for the same data set with the same specifications. Here, we have to specify that we want to use \"MPEC\" in the \"method\" key."
   ]
  },
  {
   "cell_type": "code",
   "execution_count": 9,
   "metadata": {},
   "outputs": [],
   "source": [
    "init_dict_mpec = {\n",
    "    \"model_specifications\": {\n",
    "        \"discount_factor\": 0.9999,\n",
    "        \"num_states\": 90,\n",
    "        \"maint_cost_func\": \"linear\",\n",
    "        \"cost_scale\": 1e-3,\n",
    "    },\n",
    "    \"method\": \"MPEC\"\n",
    "}"
   ]
  },
  {
   "cell_type": "markdown",
   "metadata": {},
   "source": [
    "We hand the above dictionairy and the data to the function ``get_criterion_function``, which for MPEC returns the criterion function, its derivative, the contraint function, the derivative of the constraint function and the transition results. The result of the transition probability estimation is the same as for NFXP."
   ]
  },
  {
   "cell_type": "code",
   "execution_count": 10,
   "metadata": {},
   "outputs": [
    {
     "data": {
      "text/plain": [
       "{'trans_count': array([1682, 2555,   55]),\n",
       " 'x': array([0.39189189, 0.59529357, 0.01281454]),\n",
       " 'fun': 3140.570557093825}"
      ]
     },
     "execution_count": 10,
     "metadata": {},
     "output_type": "execute_result"
    }
   ],
   "source": [
    "criterion_func, criterion_dev, constraint, constraint_dev, result_transitions_mpec = get_criterion_function(init_dict_mpec, data)\n",
    "result_transitions_mpec"
   ]
  },
  {
   "cell_type": "markdown",
   "metadata": {},
   "source": [
    "Again, we use the ``minimize`` function of estimagic in order to estimate the cost parameters for MPEC. Additionally, we choose the SLSQP algorithm for nonlinearly constrained gradient-based optimization for the minimization process."
   ]
  },
  {
   "cell_type": "code",
   "execution_count": 11,
   "metadata": {},
   "outputs": [],
   "source": [
    "num_states = init_dict_mpec[\"model_specifications\"][\"num_states\"]\n",
    "init_params = np.array([2, 10])\n",
    "x0 = np.zeros(num_states + init_params.shape[0], dtype=float)\n",
    "x0[num_states:] = init_params\n",
    "\n",
    "# minimize criterion function\n",
    "result_mpec = minimize(\n",
    "    criterion=criterion_func,\n",
    "    params=x0,\n",
    "    algorithm=\"nlopt_slsqp\",\n",
    "    derivative=criterion_dev,\n",
    "    constraints={\n",
    "        \"type\": \"nonlinear\",\n",
    "        \"func\": constraint,\n",
    "        \"derivative\": constraint_dev,\n",
    "        \"value\": np.zeros(num_states, dtype=float),\n",
    "    },\n",
    ")"
   ]
  },
  {
   "cell_type": "markdown",
   "metadata": {},
   "source": [
    "We arrive at the same results again. As MPEC also takes the expected values as parameters, the parameter vector in the cost parameter results also contains the estimated expected values at the beginning."
   ]
  },
  {
   "cell_type": "code",
   "execution_count": 12,
   "metadata": {},
   "outputs": [
    {
     "data": {
      "text/plain": [
       "True"
      ]
     },
     "execution_count": 12,
     "metadata": {},
     "output_type": "execute_result"
    }
   ],
   "source": [
    "result_mpec.success"
   ]
  },
  {
   "cell_type": "code",
   "execution_count": 13,
   "metadata": {},
   "outputs": [
    {
     "data": {
      "text/plain": [
       "array([10.07496416,  2.29310354])"
      ]
     },
     "execution_count": 13,
     "metadata": {},
     "output_type": "execute_result"
    }
   ],
   "source": [
    "result_mpec.params[num_states:]"
   ]
  },
  {
   "cell_type": "markdown",
   "metadata": {},
   "source": [
    "### Deriving the Implied Demand Function\n",
    "\n",
    "From the estimated parameters above (or generally from any parameters) we can now derive the implied demand function with ruspy as described in Rust (1987). For this we have to specify a dictionairy that describes the grid of replacement cost for which the expected demand is supposed to be calculated. As the demand calculation involves solving a fixed point one needs to specify the stopping tolerance for contraction iterations. Additionally, one passes for how many months, here 12, and how many buses (37) the implied demand is derived. Additionally, one has to supply the cost and transition parameters and pass it in separately to ``get_demand`` function that coordinates the demand derivation."
   ]
  },
  {
   "cell_type": "code",
   "execution_count": 14,
   "metadata": {},
   "outputs": [],
   "source": [
    "demand_dict = {\n",
    "    \"RC_lower_bound\": 4,\n",
    "    \"RC_upper_bound\": 13,\n",
    "    \"demand_evaluations\": 100,\n",
    "    \"tolerance\": 1e-10,\n",
    "    \"num_periods\": 12,\n",
    "    \"num_buses\": 37,\n",
    "}\n",
    "demand_params = np.concatenate((result_transitions_nfxp[\"x\"], result_nfxp.params))"
   ]
  },
  {
   "cell_type": "markdown",
   "metadata": {},
   "source": [
    "Lastly, the information for which model specification the demand is supposed to be calculated has to be passed in as a dictionairy. If, as in our case, the parameters come from previously run estimation, we can just pass in the initialization dictionairy used for the estimation. From this the ``get_demand`` function extracts the model information by using the \"model_specifications\" key. This means that it is sufficient to pass in a dictionairy that has this key and under which there is the information as requested for the initialization dictionairy. The \"method\" key is not needed.\n",
    "\n",
    "Below we now run the demand estimation and give out the results for the first few replacement costs."
   ]
  },
  {
   "cell_type": "code",
   "execution_count": 15,
   "metadata": {},
   "outputs": [
    {
     "data": {
      "text/html": [
       "<div>\n",
       "<style scoped>\n",
       "    .dataframe tbody tr th:only-of-type {\n",
       "        vertical-align: middle;\n",
       "    }\n",
       "\n",
       "    .dataframe tbody tr th {\n",
       "        vertical-align: top;\n",
       "    }\n",
       "\n",
       "    .dataframe thead th {\n",
       "        text-align: right;\n",
       "    }\n",
       "</style>\n",
       "<table border=\"1\" class=\"dataframe\">\n",
       "  <thead>\n",
       "    <tr style=\"text-align: right;\">\n",
       "      <th></th>\n",
       "      <th>demand</th>\n",
       "      <th>success</th>\n",
       "    </tr>\n",
       "    <tr>\n",
       "      <th>RC</th>\n",
       "      <th></th>\n",
       "      <th></th>\n",
       "    </tr>\n",
       "  </thead>\n",
       "  <tbody>\n",
       "    <tr>\n",
       "      <th>4.000000</th>\n",
       "      <td>15.975931</td>\n",
       "      <td>Yes</td>\n",
       "    </tr>\n",
       "    <tr>\n",
       "      <th>4.090909</th>\n",
       "      <td>15.340571</td>\n",
       "      <td>Yes</td>\n",
       "    </tr>\n",
       "    <tr>\n",
       "      <th>4.181818</th>\n",
       "      <td>14.750837</td>\n",
       "      <td>Yes</td>\n",
       "    </tr>\n",
       "    <tr>\n",
       "      <th>4.272727</th>\n",
       "      <td>14.202752</td>\n",
       "      <td>Yes</td>\n",
       "    </tr>\n",
       "    <tr>\n",
       "      <th>4.363636</th>\n",
       "      <td>13.692714</td>\n",
       "      <td>Yes</td>\n",
       "    </tr>\n",
       "  </tbody>\n",
       "</table>\n",
       "</div>"
      ],
      "text/plain": [
       "             demand success\n",
       "RC                         \n",
       "4.000000  15.975931     Yes\n",
       "4.090909  15.340571     Yes\n",
       "4.181818  14.750837     Yes\n",
       "4.272727  14.202752     Yes\n",
       "4.363636  13.692714     Yes"
      ]
     },
     "execution_count": 15,
     "metadata": {},
     "output_type": "execute_result"
    }
   ],
   "source": [
    "demand = get_demand(init_dict_nfxp, demand_dict, demand_params)\n",
    "demand.head()"
   ]
  },
  {
   "cell_type": "markdown",
   "metadata": {},
   "source": [
    "To get a sense of how the overall demand function looks like, we plot the above results across the whole grid of replacement costs that we specified before."
   ]
  },
  {
   "cell_type": "code",
   "execution_count": 16,
   "metadata": {
    "scrolled": true
   },
   "outputs": [
    {
     "data": {
      "text/plain": [
       "Text(0, 0.5, 'Expected Annual Demand')"
      ]
     },
     "execution_count": 16,
     "metadata": {},
     "output_type": "execute_result"
    },
    {
     "data": {
      "image/png": "[encoded data removed]",
      "text/plain": [
       "<Figure size 640x480 with 1 Axes>"
      ]
     },
     "metadata": {},
     "output_type": "display_data"
    }
   ],
   "source": [
    "plt.plot(demand.index.to_numpy(), demand[\"demand\"].astype(float).to_numpy())\n",
    "plt.xlabel(\"Replacement Cost\")\n",
    "plt.ylabel(\"Expected Annual Demand\")"
   ]
  }
 ],
 "metadata": {
  "kernelspec": {
   "display_name": "Python 3",
   "language": "python",
   "name": "python3"
  },
  "language_info": {
   "codemirror_mode": {
    "name": "ipython",
    "version": 3
   },
   "file_extension": ".py",
   "mimetype": "text/x-python",
   "name": "python",
   "nbconvert_exporter": "python",
   "pygments_lexer": "ipython3",
   "version": "3.8.3"
  }
 },
 "nbformat": 4,
 "nbformat_minor": 4
}
