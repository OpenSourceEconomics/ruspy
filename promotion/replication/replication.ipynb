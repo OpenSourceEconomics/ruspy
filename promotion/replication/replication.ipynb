{
 "cells": [
  {
   "cell_type": "code",
   "execution_count": 1,
   "metadata": {},
   "outputs": [],
   "source": [
    "%load_ext autoreload\n",
    "\n",
    "%autoreload 2\n",
    "    \n",
    "# import matplotlib.pyplot as plt\n",
    "import numpy as np\n",
    "import pandas as pd\n",
    "\n",
    "from ruspy.estimation.criterion_function import get_criterion_function\n",
    "from ruspy.model_code.demand_function import get_demand\n",
    "from estimagic import minimize"
   ]
  },
  {
   "cell_type": "markdown",
   "metadata": {},
   "source": [
    "## Short Tutorial on the Use of ruspy"
   ]
  },
  {
   "cell_type": "markdown",
   "metadata": {},
   "source": [
    "As opposed to the [other replication notebook](https://github.com/OpenSourceEconomics/ruspy/blob/master/promotion/replication/replication_iskhakov_et_al_2016.ipynb), here we do not actually replicate a whole paper but just an aspect of Rust (1987) in order to show how the key objects and functions for the estimation and the demand function derivation are used in the ruspy package."
   ]
  },
  {
   "cell_type": "markdown",
   "metadata": {},
   "source": [
    "### Estimation with the Nested Fixed Point Algorithm\n",
    "\n",
    "Here, we replicate the results in Table IX of Rust (1987) for the buses of group 4. For different data sets, you can either prepare them from raw data yourself (the raw data can be found [here](https://editorialexpress.com/jrust/research.html)) or visit the [data repository of OpenSourceEconomics](https://github.com/OpenSourceEconomics/zurcher-data) for Rust's (1987) data which allows to prepare the original data the way it is needed for the ruspy package. In order to estimate the parameters of the model we first load the data below."
   ]
  },
  {
   "cell_type": "code",
   "execution_count": 2,
   "metadata": {},
   "outputs": [
    {
     "data": {
      "text/html": [
       "<div>\n",
       "<style scoped>\n",
       "    .dataframe tbody tr th:only-of-type {\n",
       "        vertical-align: middle;\n",
       "    }\n",
       "\n",
       "    .dataframe tbody tr th {\n",
       "        vertical-align: top;\n",
       "    }\n",
       "\n",
       "    .dataframe thead th {\n",
       "        text-align: right;\n",
       "    }\n",
       "</style>\n",
       "<table border=\"1\" class=\"dataframe\">\n",
       "  <thead>\n",
       "    <tr style=\"text-align: right;\">\n",
       "      <th></th>\n",
       "      <th></th>\n",
       "      <th>state</th>\n",
       "      <th>mileage</th>\n",
       "      <th>usage</th>\n",
       "      <th>decision</th>\n",
       "    </tr>\n",
       "    <tr>\n",
       "      <th>Bus_ID</th>\n",
       "      <th>period</th>\n",
       "      <th></th>\n",
       "      <th></th>\n",
       "      <th></th>\n",
       "      <th></th>\n",
       "    </tr>\n",
       "  </thead>\n",
       "  <tbody>\n",
       "    <tr>\n",
       "      <th rowspan=\"5\" valign=\"top\">5297</th>\n",
       "      <th>0</th>\n",
       "      <td>0</td>\n",
       "      <td>2353.0</td>\n",
       "      <td>NaN</td>\n",
       "      <td>0</td>\n",
       "    </tr>\n",
       "    <tr>\n",
       "      <th>1</th>\n",
       "      <td>1</td>\n",
       "      <td>6299.0</td>\n",
       "      <td>1.0</td>\n",
       "      <td>0</td>\n",
       "    </tr>\n",
       "    <tr>\n",
       "      <th>2</th>\n",
       "      <td>2</td>\n",
       "      <td>10479.0</td>\n",
       "      <td>1.0</td>\n",
       "      <td>0</td>\n",
       "    </tr>\n",
       "    <tr>\n",
       "      <th>3</th>\n",
       "      <td>3</td>\n",
       "      <td>15201.0</td>\n",
       "      <td>1.0</td>\n",
       "      <td>0</td>\n",
       "    </tr>\n",
       "    <tr>\n",
       "      <th>4</th>\n",
       "      <td>4</td>\n",
       "      <td>20326.0</td>\n",
       "      <td>1.0</td>\n",
       "      <td>0</td>\n",
       "    </tr>\n",
       "    <tr>\n",
       "      <th>...</th>\n",
       "      <th>...</th>\n",
       "      <td>...</td>\n",
       "      <td>...</td>\n",
       "      <td>...</td>\n",
       "      <td>...</td>\n",
       "    </tr>\n",
       "    <tr>\n",
       "      <th rowspan=\"5\" valign=\"top\">5333</th>\n",
       "      <th>112</th>\n",
       "      <td>68</td>\n",
       "      <td>342004.0</td>\n",
       "      <td>0.0</td>\n",
       "      <td>0</td>\n",
       "    </tr>\n",
       "    <tr>\n",
       "      <th>113</th>\n",
       "      <td>68</td>\n",
       "      <td>343654.0</td>\n",
       "      <td>0.0</td>\n",
       "      <td>0</td>\n",
       "    </tr>\n",
       "    <tr>\n",
       "      <th>114</th>\n",
       "      <td>69</td>\n",
       "      <td>345631.0</td>\n",
       "      <td>1.0</td>\n",
       "      <td>0</td>\n",
       "    </tr>\n",
       "    <tr>\n",
       "      <th>115</th>\n",
       "      <td>69</td>\n",
       "      <td>347549.0</td>\n",
       "      <td>0.0</td>\n",
       "      <td>0</td>\n",
       "    </tr>\n",
       "    <tr>\n",
       "      <th>116</th>\n",
       "      <td>69</td>\n",
       "      <td>347549.0</td>\n",
       "      <td>0.0</td>\n",
       "      <td>0</td>\n",
       "    </tr>\n",
       "  </tbody>\n",
       "</table>\n",
       "<p>4329 rows × 4 columns</p>\n",
       "</div>"
      ],
      "text/plain": [
       "              state   mileage usage  decision\n",
       "Bus_ID period                                \n",
       "5297   0          0    2353.0   NaN         0\n",
       "       1          1    6299.0   1.0         0\n",
       "       2          2   10479.0   1.0         0\n",
       "       3          3   15201.0   1.0         0\n",
       "       4          4   20326.0   1.0         0\n",
       "...             ...       ...   ...       ...\n",
       "5333   112       68  342004.0   0.0         0\n",
       "       113       68  343654.0   0.0         0\n",
       "       114       69  345631.0   1.0         0\n",
       "       115       69  347549.0   0.0         0\n",
       "       116       69  347549.0   0.0         0\n",
       "\n",
       "[4329 rows x 4 columns]"
      ]
     },
     "execution_count": 2,
     "metadata": {},
     "output_type": "execute_result"
    }
   ],
   "source": [
    "data = pd.read_pickle(\"group_4.pkl\")\n",
    "data"
   ]
  },
  {
   "cell_type": "markdown",
   "metadata": {},
   "source": [
    "The data is the first ingredient for the ``estimate`` function of ruspy and the second is the initialization dictionairy (have a look at the documentation for the all possible keys). The estimation procedure, here, assumes the model to have the specifications as determined in the key \"model_specifications\". In order to use the Nested Fixed Point Algorithm, we specify it in the \"approach\" key of the \"optimizer\" dictionairy. We further assign the specific optimization algorithm below and prescribe the use of the analytical gradient of the likelihood function."
   ]
  },
  {
   "cell_type": "code",
   "execution_count": 5,
   "metadata": {},
   "outputs": [],
   "source": [
    "init_dict_nfxp = {\n",
    "    \"model_specifications\": {\n",
    "        \"discount_factor\": 0.9999,\n",
    "        \"num_states\": 90,\n",
    "        \"maint_cost_func\": \"linear\",\n",
    "        \"cost_scale\": 1e-3,\n",
    "    },\n",
    "    \"method\": \"NFXP\"\n",
    "}"
   ]
  },
  {
   "cell_type": "markdown",
   "metadata": {},
   "source": [
    "The above two elements are now given to the ``estimate`` function. The function solves the model and gives out two separate dictionairies containing the results of the estimation of the transition and cost parameters, respectively. "
   ]
  },
  {
   "cell_type": "code",
   "execution_count": 6,
   "metadata": {},
   "outputs": [],
   "source": [
    "criterion_func, criterion_dev, result_transitions_nfxp = get_criterion_function(init_dict_nfxp, data)"
   ]
  },
  {
   "cell_type": "code",
   "execution_count": 7,
   "metadata": {},
   "outputs": [
    {
     "data": {
      "text/plain": [
       "{'trans_count': array([1682, 2555,   55]),\n",
       " 'x': array([0.39189189, 0.59529357, 0.01281454]),\n",
       " 'fun': 3140.5705570938244}"
      ]
     },
     "execution_count": 7,
     "metadata": {},
     "output_type": "execute_result"
    }
   ],
   "source": [
    "result_transitions_nfxp"
   ]
  },
  {
   "cell_type": "code",
   "execution_count": 8,
   "metadata": {},
   "outputs": [
    {
     "data": {
      "text/plain": [
       "Minimize with 2 free parameters terminated successfully after 27 criterion evaluations, 27 derivative evaluations and 24 iterations.\n",
       "\n",
       "The value of criterion improved from 1567.616230027041 to 163.58428365680294.\n",
       "\n",
       "The scipy_bfgs algorithm reported: Optimization terminated successfully.\n",
       "\n",
       "Independent of the convergence criteria used by scipy_bfgs, the strength of convergence can be assessed by the following criteria:\n",
       "\n",
       "                             one_step     five_steps \n",
       "relative_criterion_change  1.211e-13***  0.0003636   \n",
       "relative_params_change     4.682e-07*      0.04934   \n",
       "absolute_criterion_change  1.981e-11***    0.05948   \n",
       "absolute_params_change     4.172e-06*        0.361   \n",
       "\n",
       "(***: change <= 1e-10, **: change <= 1e-8, *: change <= 1e-5. Change refers to a change between accepted steps. The first column only considers the last step. The second column considers the last five steps.)"
      ]
     },
     "execution_count": 8,
     "metadata": {},
     "output_type": "execute_result"
    }
   ],
   "source": [
    "result_nfxp = minimize(\n",
    "    criterion=criterion_func,\n",
    "    params=np.array([2,10]),\n",
    "    algorithm=\"scipy_bfgs\",\n",
    "    derivative=criterion_dev,\n",
    ")\n",
    "result_nfxp"
   ]
  },
  {
   "cell_type": "markdown",
   "metadata": {},
   "source": [
    "As expected, the results below reveal that we find the same parameter estimates as Rust (1987) in Table IX."
   ]
  },
  {
   "cell_type": "code",
   "execution_count": 11,
   "metadata": {},
   "outputs": [
    {
     "data": {
      "text/plain": [
       "array([10.0749422 ,  2.29309298])"
      ]
     },
     "execution_count": 11,
     "metadata": {},
     "output_type": "execute_result"
    }
   ],
   "source": [
    "result_nfxp.params"
   ]
  },
  {
   "cell_type": "markdown",
   "metadata": {},
   "source": [
    "### Estimation with Mathematical Programming with Equilibrium Constraints\n",
    "\n",
    "We now estimate the model for the same data set with the same specifications. Here, we have to specify that we want to use \"MPEC\" in the \"approach\" key and specify and optimizer from the NLOPT or IPOPT library. We opt for the LD_SLSQP provided by NLOPT and specify several starting values (\"params\"), stopping tolerances and bounds for the parameters. "
   ]
  },
  {
   "cell_type": "code",
   "execution_count": 7,
   "metadata": {},
   "outputs": [],
   "source": [
    "init_dict_mpec = {\n",
    "    \"model_specifications\": {\n",
    "        \"discount_factor\": 0.9999,\n",
    "        \"number_states\": 90,\n",
    "        \"maint_cost_func\": \"linear\",\n",
    "        \"cost_scale\": 1e-3,\n",
    "    },\n",
    "    \"optimizer\": {\n",
    "        \"approach\": \"MPEC\",\n",
    "        \"algorithm\": \"LD_SLSQP\",\n",
    "        \"params\": np.concatenate(\n",
    "            (np.full(90, 0.0), np.array([4.0, 1.0]))\n",
    "        ),\n",
    "        \"gradient\": \"Yes\",\n",
    "        \"set_ftol_abs\": 1e-15,\n",
    "        \"set_xtol_rel\": 1e-15,\n",
    "        \"set_xtol_abs\": 1e-3,\n",
    "        \"set_lower_bounds\": np.concatenate((np.full(90, -np.inf), np.full(2, 0.0))),\n",
    "        \"set_upper_bounds\": np.concatenate((np.full(90, 50.0), np.full(2, np.inf))),\n",
    "    },\n",
    "}"
   ]
  },
  {
   "cell_type": "markdown",
   "metadata": {},
   "source": [
    "We hand the above dictionairy to the ``estimate`` function and present the result dictionairies below. We arrive at the same results again. As MPEC also takes the expected values as parameters, the parameter vector in the cost parameter results also contains the estimated expected values at the beginning."
   ]
  },
  {
   "cell_type": "code",
   "execution_count": 8,
   "metadata": {},
   "outputs": [],
   "source": [
    "result_transitions_mpec, result_fixp_mpec = estimate(init_dict_mpec, data)"
   ]
  },
  {
   "cell_type": "code",
   "execution_count": 9,
   "metadata": {},
   "outputs": [
    {
     "data": {
      "text/plain": [
       "{'x': array([-1278.6559946 , -1278.85980298, -1279.05996821, -1279.25649324,\n",
       "        -1279.4493816 , -1279.63863755, -1279.82426609, -1280.00627314,\n",
       "        -1280.18466561, -1280.35945151, -1280.53064007, -1280.69824186,\n",
       "        -1280.86226894, -1281.02273495, -1281.17965528, -1281.33304713,\n",
       "        -1281.48292973, -1281.62932437, -1281.77225455, -1281.91174608,\n",
       "        -1282.04782715, -1282.18052841, -1282.30988302, -1282.43592671,\n",
       "        -1282.55869775, -1282.67823699, -1282.79458781, -1282.90779606,\n",
       "        -1283.01791001, -1283.12498027, -1283.22905961, -1283.3302029 ,\n",
       "        -1283.4284669 , -1283.52391013, -1283.61659268, -1283.70657599,\n",
       "        -1283.79392267, -1283.87869629, -1283.96096118, -1284.04078218,\n",
       "        -1284.11822447, -1284.19335333, -1284.26623395, -1284.33693124,\n",
       "        -1284.40550964, -1284.47203295, -1284.53656414, -1284.59916522,\n",
       "        -1284.65989708, -1284.71881936, -1284.77599035, -1284.83146684,\n",
       "        -1284.88530403, -1284.93755546, -1284.9882729 , -1285.03750626,\n",
       "        -1285.08530353, -1285.13171069, -1285.17677167, -1285.2205282 ,\n",
       "        -1285.2630198 , -1285.30428366, -1285.34435452, -1285.38326457,\n",
       "        -1285.42104335, -1285.45771751, -1285.49331071, -1285.52784334,\n",
       "        -1285.56133229, -1285.59379062, -1285.62522721, -1285.65564629,\n",
       "        -1285.68504694, -1285.71342246, -1285.74075965, -1285.76703792,\n",
       "        -1285.7922283 , -1285.81629222, -1285.83918011, -1285.86082977,\n",
       "        -1285.88116447, -1285.90009076, -1285.91749595, -1285.93324528,\n",
       "        -1285.9471787 , -1285.95910736, -1285.96880978, -1285.97602779,\n",
       "        -1285.98046237, -1285.98177155,    10.07494222,     2.29309296]),\n",
       " 'fun': 163.58428365680072,\n",
       " 'status': True,\n",
       " 'n_iterations': 30,\n",
       " 'n_evaluations': 30,\n",
       " 'reason': 4,\n",
       " 'time': 0.4318597000000004}"
      ]
     },
     "execution_count": 9,
     "metadata": {},
     "output_type": "execute_result"
    }
   ],
   "source": [
    "result_fixp_mpec"
   ]
  },
  {
   "cell_type": "code",
   "execution_count": 10,
   "metadata": {},
   "outputs": [
    {
     "data": {
      "text/plain": [
       "{'trans_count': array([1682, 2555,   55], dtype=int64),\n",
       " 'x': array([0.39189189, 0.59529357, 0.01281454]),\n",
       " 'fun': 3140.5705570938244}"
      ]
     },
     "execution_count": 10,
     "metadata": {},
     "output_type": "execute_result"
    }
   ],
   "source": [
    "result_transitions_mpec"
   ]
  },
  {
   "cell_type": "markdown",
   "metadata": {},
   "source": [
    "### Deriving the Implied Demand Function\n",
    "\n",
    "From the estimated parameters above (or generally from any parameters) we can now derive the implied demand function with ruspy as described in Rust (1987). For this we have to specify a dictionairy that describes the grid of replacement cost for which the expected demand is supposed to be calculated. As the demand calculation involves solving a fixed point one needs to specify the stopping tolerance for contraction iterations. Additionally, one passes for how many months, here 12, and how many buses (37) the implied demand is derived. Additionally, one has to supply the cost and transition parameters and pass it in separately to ``get_demand`` function that coordinates the demand derivation."
   ]
  },
  {
   "cell_type": "code",
   "execution_count": 11,
   "metadata": {},
   "outputs": [],
   "source": [
    "demand_dict = {\n",
    "    \"RC_lower_bound\": 4,\n",
    "    \"RC_upper_bound\": 13,\n",
    "    \"demand_evaluations\": 100,\n",
    "    \"tolerance\": 1e-10,\n",
    "    \"num_periods\": 12,\n",
    "    \"num_buses\": 37,\n",
    "}\n",
    "demand_params = np.concatenate((result_transitions_nfxp[\"x\"], result_fixp_nfxp[\"x\"]))"
   ]
  },
  {
   "cell_type": "markdown",
   "metadata": {},
   "source": [
    "Lastly, the information for which model specification the demand is supposed to be calculated has to be passed in as a dictionairy. If, as in our case, the parameters come from previously run estimation, we can just pass in the initialization dictionairy used for the estimation. From this the ``get_demand`` function extracts the model information by using the \"model_specifications\" key. This means that is sufficient to pass in a dictionairy that has this key and under which there is the information as requested for the initialization dictionairy. The \"optimizer\" key is not needed.\n",
    "\n",
    "Below we now run the demand estimation and give out the results for the first few replacement costs."
   ]
  },
  {
   "cell_type": "code",
   "execution_count": 12,
   "metadata": {},
   "outputs": [
    {
     "data": {
      "text/html": [
       "<div>\n",
       "<style scoped>\n",
       "    .dataframe tbody tr th:only-of-type {\n",
       "        vertical-align: middle;\n",
       "    }\n",
       "\n",
       "    .dataframe tbody tr th {\n",
       "        vertical-align: top;\n",
       "    }\n",
       "\n",
       "    .dataframe thead th {\n",
       "        text-align: right;\n",
       "    }\n",
       "</style>\n",
       "<table border=\"1\" class=\"dataframe\">\n",
       "  <thead>\n",
       "    <tr style=\"text-align: right;\">\n",
       "      <th></th>\n",
       "      <th>demand</th>\n",
       "      <th>success</th>\n",
       "    </tr>\n",
       "    <tr>\n",
       "      <th>RC</th>\n",
       "      <th></th>\n",
       "      <th></th>\n",
       "    </tr>\n",
       "  </thead>\n",
       "  <tbody>\n",
       "    <tr>\n",
       "      <th>4.000000</th>\n",
       "      <td>15.9759</td>\n",
       "      <td>Yes</td>\n",
       "    </tr>\n",
       "    <tr>\n",
       "      <th>4.090909</th>\n",
       "      <td>15.3406</td>\n",
       "      <td>Yes</td>\n",
       "    </tr>\n",
       "    <tr>\n",
       "      <th>4.181818</th>\n",
       "      <td>14.7508</td>\n",
       "      <td>Yes</td>\n",
       "    </tr>\n",
       "    <tr>\n",
       "      <th>4.272727</th>\n",
       "      <td>14.2028</td>\n",
       "      <td>Yes</td>\n",
       "    </tr>\n",
       "    <tr>\n",
       "      <th>4.363636</th>\n",
       "      <td>13.6927</td>\n",
       "      <td>Yes</td>\n",
       "    </tr>\n",
       "  </tbody>\n",
       "</table>\n",
       "</div>"
      ],
      "text/plain": [
       "           demand success\n",
       "RC                       \n",
       "4.000000  15.9759     Yes\n",
       "4.090909  15.3406     Yes\n",
       "4.181818  14.7508     Yes\n",
       "4.272727  14.2028     Yes\n",
       "4.363636  13.6927     Yes"
      ]
     },
     "execution_count": 12,
     "metadata": {},
     "output_type": "execute_result"
    }
   ],
   "source": [
    "demand = get_demand(init_dict_nfxp, demand_dict, demand_params)\n",
    "demand.head()"
   ]
  },
  {
   "cell_type": "markdown",
   "metadata": {},
   "source": [
    "To get a sense of how the overall demand function looks like, we plot the above results across the whole grid of replacement costs that we specified before."
   ]
  },
  {
   "cell_type": "code",
   "execution_count": 13,
   "metadata": {},
   "outputs": [
    {
     "data": {
      "text/plain": [
       "Text(0, 0.5, 'Expected Annual Demand')"
      ]
     },
     "execution_count": 13,
     "metadata": {},
     "output_type": "execute_result"
    },
    {
     "data": {
      "image/png": "[encoded data removed]",
      "text/plain": [
       "<Figure size 432x288 with 1 Axes>"
      ]
     },
     "metadata": {
      "needs_background": "light"
     },
     "output_type": "display_data"
    }
   ],
   "source": [
    "plt.plot(demand.index.to_numpy(), demand[\"demand\"].astype(float).to_numpy())\n",
    "plt.xlabel(\"Replacement Cost\")\n",
    "plt.ylabel(\"Expected Annual Demand\")"
   ]
  }
 ],
 "metadata": {
  "kernelspec": {
   "display_name": "Python 3 (ipykernel)",
   "language": "python",
   "name": "python3"
  },
  "language_info": {
   "codemirror_mode": {
    "name": "ipython",
    "version": 3
   },
   "file_extension": ".py",
   "mimetype": "text/x-python",
   "name": "python",
   "nbconvert_exporter": "python",
   "pygments_lexer": "ipython3",
   "version": "3.9.15"
  }
 },
 "nbformat": 4,
 "nbformat_minor": 4
}
