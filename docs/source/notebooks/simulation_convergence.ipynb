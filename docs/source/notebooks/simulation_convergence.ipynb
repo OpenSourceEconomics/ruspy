{
 "cells": [
  {
   "cell_type": "code",
   "execution_count": null,
   "metadata": {},
   "outputs": [],
   "source": [
    "!conda install matplotlib"
   ]
  },
  {
   "cell_type": "code",
   "execution_count": null,
   "metadata": {},
   "outputs": [],
   "source": [
    "import matplotlib.pyplot as plt\n",
    "import yaml\n",
    "import numpy as np\n",
    "from ruspy.simulation.simulation import simulate\n",
    "from ruspy.model_code.fix_point_alg import calc_fixp\n",
    "from ruspy.model_code.cost_functions import lin_cost\n",
    "from ruspy.model_code.cost_functions import calc_obs_costs\n",
    "from ruspy.estimation.estimation_transitions import create_transition_matrix"
   ]
  },
  {
   "cell_type": "markdown",
   "metadata": {},
   "source": [
    "## Simulation tutorial"
   ]
  },
  {
   "cell_type": "markdown",
   "metadata": {},
   "source": [
    "This notebook provides a tutorial of how to use ruspy's simulation function ``simulate``. Furthermore, the convergence of expected utility calculated by fixed point algorithm and the observed utility on the simulated data are demonstrated."
   ]
  },
  {
   "cell_type": "markdown",
   "metadata": {},
   "source": [
    "First we specify the initialization dictionairy for the simulation."
   ]
  },
  {
   "cell_type": "code",
   "execution_count": null,
   "metadata": {},
   "outputs": [],
   "source": [
    "# Set simulating variables\n",
    "disc_fac = 0.9999\n",
    "num_buses = 100\n",
    "num_periods = 80000\n",
    "gridsize = 1000\n",
    "# We use the cost parameters and transition probabilities from the replication\n",
    "params = np.array([10.07780762, 2.29417622])\n",
    "trans_probs = np.array([0.39189182, 0.59529371, 0.01281447])\n",
    "scale = 1e-3\n",
    "\n",
    "init_dict = {\n",
    "    \"simulation\": {\n",
    "        \"discount_factor\": disc_fac,\n",
    "        \"periods\": num_periods,\n",
    "        \"seed\": 123,\n",
    "        \"buses\": num_buses,\n",
    "    },\n",
    "    \"plot\": {\"gridsize\": gridsize},\n",
    "}"
   ]
  },
  {
   "cell_type": "markdown",
   "metadata": {},
   "source": [
    "Beside the initializsation dictionary, the ``simulate`` function takes other inputs. These objects are calculated below and are passed to the simulation function, which returns the simulated data."
   ]
  },
  {
   "cell_type": "code",
   "execution_count": null,
   "metadata": {},
   "outputs": [],
   "source": [
    "# Calculate objects necessary for the simulation process. See documentation for details.\n",
    "num_states = 200\n",
    "costs = calc_obs_costs(num_states, lin_cost, params, scale)\n",
    "\n",
    "trans_mat = create_transition_matrix(num_states, trans_probs)\n",
    "ev = calc_fixp(trans_mat, costs, disc_fac)[0]"
   ]
  },
  {
   "cell_type": "code",
   "execution_count": null,
   "metadata": {},
   "outputs": [],
   "source": [
    "# Simulate the data.\n",
    "df = simulate(init_dict[\"simulation\"], ev, costs, trans_mat)"
   ]
  },
  {
   "cell_type": "markdown",
   "metadata": {},
   "source": [
    "In the following, a exercise is provided, which shows the convergence of expected utility calculated by fixed point algorithm and the observed utility on the simulated data."
   ]
  },
  {
   "cell_type": "code",
   "execution_count": null,
   "metadata": {},
   "outputs": [],
   "source": [
    "# Provide a discounting function.\n",
    "def discount_utility(df, max_period, disc_fac):\n",
    "    v = 0.0\n",
    "    for i in df.index.levels[0]:\n",
    "        v += np.sum(\n",
    "            np.multiply(\n",
    "                disc_fac ** np.arange(max_period),\n",
    "                df.xs([i]).loc[: max_period - 1, \"utilities\"],\n",
    "            )\n",
    "        )\n",
    "    return v / len(df.index.levels[0])"
   ]
  },
  {
   "cell_type": "code",
   "execution_count": null,
   "metadata": {},
   "outputs": [],
   "source": [
    "# Discount the utility of the observed data\n",
    "num_points = int(num_periods / gridsize) + 1\n",
    "\n",
    "periods = np.arange(0, num_periods + gridsize, gridsize)\n",
    "\n",
    "v_disc = np.zeros_like(periods)\n",
    "for i, period in enumerate(periods[1:]):\n",
    "    v_disc[i + 1] = discount_utility(df, period, disc_fac)"
   ]
  },
  {
   "cell_type": "code",
   "execution_count": null,
   "metadata": {},
   "outputs": [],
   "source": [
    "# Create an array containing the expected long-run performance.\n",
    "v_exp = np.full(num_points, ev[0])"
   ]
  },
  {
   "cell_type": "markdown",
   "metadata": {},
   "source": [
    "The results are now visualized in oder to show convergence of the observed utility on the simulated data to the expected utility by the fixed point algorithm."
   ]
  },
  {
   "cell_type": "code",
   "execution_count": 9,
   "metadata": {},
   "outputs": [
    {
     "data": {
      "image/png": "[encoded data removed]",
      "text/plain": [
       "<Figure size 1008x432 with 1 Axes>"
      ]
     },
     "metadata": {
      "needs_background": "light"
     },
     "output_type": "display_data"
    }
   ],
   "source": [
    "ax = plt.figure(figsize=(14, 6))\n",
    "\n",
    "ax1 = ax.add_subplot(111)\n",
    "\n",
    "ax1.set_ylim([-1500, 10])\n",
    "\n",
    "ax1.set_ylabel(r\"Value at time 0\")\n",
    "ax1.set_xlabel(r\"Periods\")\n",
    "\n",
    "ax1.plot(periods, v_disc, color=\"#1f77b4\", label=\"observed performance\")\n",
    "ax1.plot(periods, v_exp, color=\"#ff7f0e\", label=\"long-run perfomance\")\n",
    "\n",
    "plt.tight_layout()\n",
    "\n",
    "plt.savefig(\"figure_1.png\", dpi=300)"
   ]
  }
 ],
 "metadata": {
  "kernelspec": {
   "display_name": "Python 3 (ipykernel)",
   "language": "python",
   "name": "python3"
  },
  "language_info": {
   "codemirror_mode": {
    "name": "ipython",
    "version": 3
   },
   "file_extension": ".py",
   "mimetype": "text/x-python",
   "name": "python",
   "nbconvert_exporter": "python",
   "pygments_lexer": "ipython3",
   "version": "3.9.15"
  }
 },
 "nbformat": 4,
 "nbformat_minor": 4
}
